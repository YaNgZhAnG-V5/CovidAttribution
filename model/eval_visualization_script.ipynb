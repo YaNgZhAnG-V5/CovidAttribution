{
 "cells": [
  {
   "cell_type": "code",
   "execution_count": null,
   "metadata": {
    "colab": {
     "base_uri": "https://localhost:8080/"
    },
    "executionInfo": {
     "elapsed": 19725,
     "status": "ok",
     "timestamp": 1607962183055,
     "user": {
      "displayName": "Wejdene Mansour",
      "photoUrl": "https://lh3.googleusercontent.com/a-/AOh14GjPmJNhCoYmd7uFIXkkB5FOlzcQOBV3of5hL8tOBQ=s64",
      "userId": "05263850157645353544"
     },
     "user_tz": -60
    },
    "id": "43opbmek_68w",
    "outputId": "68c4e7fd-1dd3-410e-bffd-8f7da3f1337b"
   },
   "outputs": [
    {
     "name": "stdout",
     "output_type": "stream",
     "text": [
      "Mounted at /content/gdrive\n"
     ]
    }
   ],
   "source": [
    "from google.colab import drive\n",
    "drive.mount('/content/gdrive')"
   ]
  },
  {
   "cell_type": "code",
   "execution_count": null,
   "metadata": {
    "id": "y4fCiB_R_69A"
   },
   "outputs": [],
   "source": [
    "%cd /content/gdrive/MyDrive\n",
    "!unzip NIH_CXR14_Resized.zip -d /content/\n",
    "%cd /content/gdrive/MyDrive/Colab\\ Notebooks"
   ]
  },
  {
   "cell_type": "code",
   "execution_count": null,
   "metadata": {
    "id": "ZYWs8Bll_69B"
   },
   "outputs": [],
   "source": [
    "import visualize_prediction as V\n",
    "\n",
    "import warnings\n",
    "warnings.filterwarnings('ignore')"
   ]
  },
  {
   "cell_type": "code",
   "execution_count": null,
   "metadata": {
    "id": "_zAuHfBi_69C"
   },
   "outputs": [],
   "source": [
    "PATH_TO_IMAGES = \"/content/NIH small\"\n",
    "PATH_TO_MODEL = \"/content/gdrive/MyDrive/Colab Notebooks/results/checkpoint_best\""
   ]
  },
  {
   "cell_type": "code",
   "execution_count": null,
   "metadata": {
    "colab": {
     "base_uri": "https://localhost:8080/"
    },
    "executionInfo": {
     "elapsed": 33605,
     "status": "ok",
     "timestamp": 1607962465945,
     "user": {
      "displayName": "Wejdene Mansour",
      "photoUrl": "https://lh3.googleusercontent.com/a-/AOh14GjPmJNhCoYmd7uFIXkkB5FOlzcQOBV3of5hL8tOBQ=s64",
      "userId": "05263850157645353544"
     },
     "user_tz": -60
    },
    "id": "X6mruKPE_69C",
    "outputId": "323562a8-d3ae-41c6-c315-9aa49ce3308b"
   },
   "outputs": [
    {
     "name": "stdout",
     "output_type": "stream",
     "text": [
      "Cases for review for Atelectasis :\n",
      "180\n",
      "acc = \n",
      "[0.]\n",
      "Cases for review for Cardiomegaly :\n",
      "146\n",
      "acc = \n",
      "[0.]\n",
      "Cases for review for Effusion :\n",
      "153\n",
      "acc = \n",
      "[0.]\n",
      "Cases for review for Infiltrate :\n",
      "123\n",
      "acc = \n",
      "[0.]\n",
      "Cases for review for Mass :\n",
      "85\n",
      "acc = \n",
      "[0.]\n",
      "Cases for review for Nodule :\n",
      "79\n",
      "acc = \n",
      "[0.]\n",
      "Cases for review for Pneumonia :\n",
      "120\n",
      "acc = \n",
      "[0.]\n",
      "Cases for review for Pneumothorax :\n",
      "98\n",
      "acc = \n",
      "[0.]\n"
     ]
    }
   ],
   "source": [
    "POSITIVE_FINDINGS_ONLY = True\n",
    "\n",
    "FINDINGS = [\n",
    "        'Atelectasis',\n",
    "        'Cardiomegaly',\n",
    "        'Effusion',\n",
    "        'Infiltrate',\n",
    "        'Mass',\n",
    "        'Nodule',\n",
    "        'Pneumonia',\n",
    "        'Pneumothorax']\n",
    "\n",
    "localization_accuracies = []\n",
    "for LABEL in FINDINGS:\n",
    "\n",
    "    dataloader, model = V.load_data(PATH_TO_IMAGES, LABEL, PATH_TO_MODEL, POSITIVE_FINDINGS_ONLY, fold='BBox')\n",
    "    print(\"Cases for review for \" + LABEL + \" :\")\n",
    "    print(len(dataloader))\n",
    "    acc = V.eval_localization(dataloader, model, LABEL, [180, 200], 0.1)\n",
    "    print('acc = ')\n",
    "    print(acc)\n",
    "    localization_accuracies.append(acc)"
   ]
  },
  {
   "cell_type": "code",
   "execution_count": null,
   "metadata": {
    "id": "CKUde5cBAtv7"
   },
   "outputs": [],
   "source": []
  }
 ],
 "metadata": {
  "accelerator": "GPU",
  "colab": {
   "collapsed_sections": [],
   "name": "eval_visualization_script.ipynb",
   "provenance": []
  },
  "kernelspec": {
   "display_name": "Python 3",
   "language": "python",
   "name": "python3"
  },
  "language_info": {
   "codemirror_mode": {
    "name": "ipython",
    "version": 3
   },
   "file_extension": ".py",
   "mimetype": "text/x-python",
   "name": "python",
   "nbconvert_exporter": "python",
   "pygments_lexer": "ipython3",
   "version": "3.6.12"
  }
 },
 "nbformat": 4,
 "nbformat_minor": 1
}
